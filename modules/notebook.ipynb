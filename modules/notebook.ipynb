{
 "cells": [
  {
   "cell_type": "code",
   "execution_count": 1,
   "metadata": {},
   "outputs": [],
   "source": [
    "import pandas as pd\n",
    "import great_expectations as ge"
   ]
  },
  {
   "cell_type": "code",
   "execution_count": 2,
   "metadata": {},
   "outputs": [],
   "source": [
    "sample_data_path = \".\\historical_data_2022Q4.txt\"\n",
    "column_names = [\n",
    "        \"Credit Score\",\n",
    "        \"First Payment Date\",\n",
    "        \"First Time Homebuyer Flag\",\n",
    "        \"Maturity Date\",\n",
    "        \"Metropolitan Statistical Area (MSA) Or Metropolitan Division\",\n",
    "        \"Mortgage Insurance Percentage (MI %)\",\n",
    "        \"Number of Units\",\n",
    "        \"Occupancy Status\",\n",
    "        \"Original Combined Loan-to-Value (CLTV)\",\n",
    "        \"Original Debt-to-Income (DTI) Ratio\",\n",
    "        \"Original UPB\",\n",
    "        \"Original Loan-to-Value (LTV)\",\n",
    "        \"Original Interest Rate\",\n",
    "        \"Channel\",\n",
    "        \"Prepayment Penalty Mortgage (PPM) Flag\",\n",
    "        \"Amortization Type (Formerly Product Type)\",\n",
    "        \"Property State\",\n",
    "        \"Property Type\",\n",
    "        \"Postal Code\",\n",
    "        \"Loan Sequence Number\",\n",
    "        \"Loan Purpose\",\n",
    "        \"Original Loan Term\",\n",
    "        \"Number of Borrowers\",\n",
    "        \"Seller Name\",\n",
    "        \"Servicer Name\",\n",
    "        \"Super Conforming Flag\",\n",
    "        \"Pre-HARP Loan Sequence Number\",\n",
    "        \"Program Indicator\",\n",
    "        \"HARP Indicator\",\n",
    "        \"Property Valuation Method\",\n",
    "        \"Interest Only (I/O) Indicator\",\n",
    "        \"Mortgage Insurance Cancellation Indicator\",\n",
    "    ]\n",
    "df = pd.read_csv(sample_data_path, delimiter=\"|\", header=None, names=column_names)\n",
    "context = ge.data_context.DataContext()\n"
   ]
  },
  {
   "cell_type": "code",
   "execution_count": 4,
   "metadata": {},
   "outputs": [
    {
     "data": {
      "text/plain": [
       "{\n",
       "  \"anonymous_usage_statistics\": {\n",
       "    \"usage_statistics_url\": \"https://stats.greatexpectations.io/great_expectations/v1/usage_statistics\",\n",
       "    \"data_context_id\": \"cedddd2f-b316-4391-8348-e7836cc762f3\",\n",
       "    \"explicit_url\": false,\n",
       "    \"enabled\": true,\n",
       "    \"explicit_id\": true\n",
       "  },\n",
       "  \"checkpoint_store_name\": \"checkpoint_store\",\n",
       "  \"config_variables_file_path\": \"uncommitted/config_variables.yml\",\n",
       "  \"config_version\": 3.0,\n",
       "  \"data_docs_sites\": {\n",
       "    \"local_site\": {\n",
       "      \"class_name\": \"SiteBuilder\",\n",
       "      \"show_how_to_buttons\": true,\n",
       "      \"store_backend\": {\n",
       "        \"class_name\": \"TupleFilesystemStoreBackend\",\n",
       "        \"base_directory\": \"uncommitted/data_docs/local_site/\"\n",
       "      },\n",
       "      \"site_index_builder\": {\n",
       "        \"class_name\": \"DefaultSiteIndexBuilder\"\n",
       "      }\n",
       "    }\n",
       "  },\n",
       "  \"datasources\": {},\n",
       "  \"evaluation_parameter_store_name\": \"evaluation_parameter_store\",\n",
       "  \"expectations_store_name\": \"expectations_store\",\n",
       "  \"fluent_datasources\": {\n",
       "    \"my_pandas_datasource\": {\n",
       "      \"type\": \"pandas\",\n",
       "      \"assets\": {\n",
       "        \"fm_dataframe\": {\n",
       "          \"type\": \"dataframe\",\n",
       "          \"batch_metadata\": {}\n",
       "        }\n",
       "      }\n",
       "    }\n",
       "  },\n",
       "  \"include_rendered_content\": {\n",
       "    \"expectation_validation_result\": false,\n",
       "    \"expectation_suite\": false,\n",
       "    \"globally\": false\n",
       "  },\n",
       "  \"plugins_directory\": \"plugins/\",\n",
       "  \"stores\": {\n",
       "    \"expectations_store\": {\n",
       "      \"class_name\": \"ExpectationsStore\",\n",
       "      \"store_backend\": {\n",
       "        \"class_name\": \"TupleFilesystemStoreBackend\",\n",
       "        \"base_directory\": \"expectations/\"\n",
       "      }\n",
       "    },\n",
       "    \"validations_store\": {\n",
       "      \"class_name\": \"ValidationsStore\",\n",
       "      \"store_backend\": {\n",
       "        \"class_name\": \"TupleFilesystemStoreBackend\",\n",
       "        \"base_directory\": \"uncommitted/validations/\"\n",
       "      }\n",
       "    },\n",
       "    \"evaluation_parameter_store\": {\n",
       "      \"class_name\": \"EvaluationParameterStore\"\n",
       "    },\n",
       "    \"checkpoint_store\": {\n",
       "      \"class_name\": \"CheckpointStore\",\n",
       "      \"store_backend\": {\n",
       "        \"class_name\": \"TupleFilesystemStoreBackend\",\n",
       "        \"suppress_store_backend_id\": true,\n",
       "        \"base_directory\": \"checkpoints/\"\n",
       "      }\n",
       "    },\n",
       "    \"profiler_store\": {\n",
       "      \"class_name\": \"ProfilerStore\",\n",
       "      \"store_backend\": {\n",
       "        \"class_name\": \"TupleFilesystemStoreBackend\",\n",
       "        \"suppress_store_backend_id\": true,\n",
       "        \"base_directory\": \"profilers/\"\n",
       "      }\n",
       "    }\n",
       "  },\n",
       "  \"validations_store_name\": \"validations_store\"\n",
       "}"
      ]
     },
     "execution_count": 4,
     "metadata": {},
     "output_type": "execute_result"
    }
   ],
   "source": [
    "context"
   ]
  },
  {
   "cell_type": "code",
   "execution_count": 5,
   "metadata": {},
   "outputs": [
    {
     "data": {
      "text/plain": [
       "{\n",
       "  \"expectation_suite_name\": \"freddie_mac_expectation_suite\",\n",
       "  \"ge_cloud_id\": null,\n",
       "  \"expectations\": [],\n",
       "  \"data_asset_type\": null,\n",
       "  \"meta\": {\n",
       "    \"great_expectations_version\": \"0.17.19\"\n",
       "  }\n",
       "}"
      ]
     },
     "execution_count": 5,
     "metadata": {},
     "output_type": "execute_result"
    }
   ],
   "source": [
    "suite_name = \"freddie_mac_expectation_suite\"\n",
    "context.create_expectation_suite(suite_name, overwrite_existing=True)"
   ]
  },
  {
   "cell_type": "code",
   "execution_count": 6,
   "metadata": {},
   "outputs": [
    {
     "ename": "NameError",
     "evalue": "name 'ge_df' is not defined",
     "output_type": "error",
     "traceback": [
      "\u001b[1;31m---------------------------------------------------------------------------\u001b[0m",
      "\u001b[1;31mNameError\u001b[0m                                 Traceback (most recent call last)",
      "\u001b[1;32mc:\\Users\\Divyesh Rajput\\Desktop\\Big Data Systems and  Intelligence Analytics\\Asng_1\\Part2\\modules\\notebook.ipynb Cell 5\u001b[0m line \u001b[0;36m1\n\u001b[1;32m----> <a href='vscode-notebook-cell:/c%3A/Users/Divyesh%20Rajput/Desktop/Big%20Data%20Systems%20and%20%20Intelligence%20Analytics/Asng_1/Part2/modules/notebook.ipynb#W4sZmlsZQ%3D%3D?line=0'>1</a>\u001b[0m ge_df\n",
      "\u001b[1;31mNameError\u001b[0m: name 'ge_df' is not defined"
     ]
    }
   ],
   "source": [
    "ge_df"
   ]
  },
  {
   "cell_type": "code",
   "execution_count": 7,
   "metadata": {},
   "outputs": [],
   "source": [
    "datasource = context.sources.add_pandas(name=\"my_pandas_datasource1\")"
   ]
  },
  {
   "cell_type": "code",
   "execution_count": 8,
   "metadata": {},
   "outputs": [],
   "source": [
    "name = \"fm_dataframe\""
   ]
  },
  {
   "cell_type": "code",
   "execution_count": 9,
   "metadata": {},
   "outputs": [],
   "source": [
    "data_asset = datasource.add_dataframe_asset(name=name)"
   ]
  },
  {
   "cell_type": "code",
   "execution_count": 10,
   "metadata": {},
   "outputs": [],
   "source": [
    "my_batch_request = data_asset.build_batch_request(dataframe=df)"
   ]
  },
  {
   "cell_type": "code",
   "execution_count": 11,
   "metadata": {},
   "outputs": [],
   "source": [
    "suite = context.get_expectation_suite(suite_name)"
   ]
  },
  {
   "cell_type": "code",
   "execution_count": 12,
   "metadata": {},
   "outputs": [
    {
     "data": {
      "application/vnd.jupyter.widget-view+json": {
       "model_id": "77c4f7c08eb044abb5083b9e047e718e",
       "version_major": 2,
       "version_minor": 0
      },
      "text/plain": [
       "Calculating Metrics:   0%|          | 0/1 [00:00<?, ?it/s]"
      ]
     },
     "metadata": {},
     "output_type": "display_data"
    },
    {
     "data": {
      "text/html": [
       "<div>\n",
       "<style scoped>\n",
       "    .dataframe tbody tr th:only-of-type {\n",
       "        vertical-align: middle;\n",
       "    }\n",
       "\n",
       "    .dataframe tbody tr th {\n",
       "        vertical-align: top;\n",
       "    }\n",
       "\n",
       "    .dataframe thead th {\n",
       "        text-align: right;\n",
       "    }\n",
       "</style>\n",
       "<table border=\"1\" class=\"dataframe\">\n",
       "  <thead>\n",
       "    <tr style=\"text-align: right;\">\n",
       "      <th></th>\n",
       "      <th>Credit Score</th>\n",
       "      <th>First Payment Date</th>\n",
       "      <th>First Time Homebuyer Flag</th>\n",
       "      <th>Maturity Date</th>\n",
       "      <th>Metropolitan Statistical Area (MSA) Or Metropolitan Division</th>\n",
       "      <th>Mortgage Insurance Percentage (MI %)</th>\n",
       "      <th>Number of Units</th>\n",
       "      <th>Occupancy Status</th>\n",
       "      <th>Original Combined Loan-to-Value (CLTV)</th>\n",
       "      <th>Original Debt-to-Income (DTI) Ratio</th>\n",
       "      <th>...</th>\n",
       "      <th>Number of Borrowers</th>\n",
       "      <th>Seller Name</th>\n",
       "      <th>Servicer Name</th>\n",
       "      <th>Super Conforming Flag</th>\n",
       "      <th>Pre-HARP Loan Sequence Number</th>\n",
       "      <th>Program Indicator</th>\n",
       "      <th>HARP Indicator</th>\n",
       "      <th>Property Valuation Method</th>\n",
       "      <th>Interest Only (I/O) Indicator</th>\n",
       "      <th>Mortgage Insurance Cancellation Indicator</th>\n",
       "    </tr>\n",
       "  </thead>\n",
       "  <tbody>\n",
       "    <tr>\n",
       "      <th>0</th>\n",
       "      <td>721</td>\n",
       "      <td>202212</td>\n",
       "      <td>Y</td>\n",
       "      <td>205211</td>\n",
       "      <td>NaN</td>\n",
       "      <td>35</td>\n",
       "      <td>1</td>\n",
       "      <td>P</td>\n",
       "      <td>97</td>\n",
       "      <td>37</td>\n",
       "      <td>...</td>\n",
       "      <td>1</td>\n",
       "      <td>WELLS FARGO BANK, N.A.</td>\n",
       "      <td>WELLS FARGO BANK, N.A.</td>\n",
       "      <td>NaN</td>\n",
       "      <td>NaN</td>\n",
       "      <td>9</td>\n",
       "      <td>NaN</td>\n",
       "      <td>2</td>\n",
       "      <td>N</td>\n",
       "      <td>N</td>\n",
       "    </tr>\n",
       "    <tr>\n",
       "      <th>1</th>\n",
       "      <td>716</td>\n",
       "      <td>202212</td>\n",
       "      <td>N</td>\n",
       "      <td>203711</td>\n",
       "      <td>NaN</td>\n",
       "      <td>0</td>\n",
       "      <td>1</td>\n",
       "      <td>P</td>\n",
       "      <td>68</td>\n",
       "      <td>40</td>\n",
       "      <td>...</td>\n",
       "      <td>2</td>\n",
       "      <td>Other sellers</td>\n",
       "      <td>Other servicers</td>\n",
       "      <td>NaN</td>\n",
       "      <td>NaN</td>\n",
       "      <td>9</td>\n",
       "      <td>NaN</td>\n",
       "      <td>2</td>\n",
       "      <td>N</td>\n",
       "      <td>7</td>\n",
       "    </tr>\n",
       "    <tr>\n",
       "      <th>2</th>\n",
       "      <td>789</td>\n",
       "      <td>202301</td>\n",
       "      <td>N</td>\n",
       "      <td>205212</td>\n",
       "      <td>NaN</td>\n",
       "      <td>30</td>\n",
       "      <td>1</td>\n",
       "      <td>P</td>\n",
       "      <td>95</td>\n",
       "      <td>28</td>\n",
       "      <td>...</td>\n",
       "      <td>2</td>\n",
       "      <td>Other sellers</td>\n",
       "      <td>Other servicers</td>\n",
       "      <td>NaN</td>\n",
       "      <td>NaN</td>\n",
       "      <td>9</td>\n",
       "      <td>NaN</td>\n",
       "      <td>2</td>\n",
       "      <td>N</td>\n",
       "      <td>N</td>\n",
       "    </tr>\n",
       "    <tr>\n",
       "      <th>3</th>\n",
       "      <td>763</td>\n",
       "      <td>202211</td>\n",
       "      <td>N</td>\n",
       "      <td>203710</td>\n",
       "      <td>NaN</td>\n",
       "      <td>0</td>\n",
       "      <td>1</td>\n",
       "      <td>P</td>\n",
       "      <td>67</td>\n",
       "      <td>39</td>\n",
       "      <td>...</td>\n",
       "      <td>1</td>\n",
       "      <td>Other sellers</td>\n",
       "      <td>Other servicers</td>\n",
       "      <td>NaN</td>\n",
       "      <td>NaN</td>\n",
       "      <td>9</td>\n",
       "      <td>NaN</td>\n",
       "      <td>2</td>\n",
       "      <td>N</td>\n",
       "      <td>7</td>\n",
       "    </tr>\n",
       "    <tr>\n",
       "      <th>4</th>\n",
       "      <td>792</td>\n",
       "      <td>202212</td>\n",
       "      <td>N</td>\n",
       "      <td>205211</td>\n",
       "      <td>47260.0</td>\n",
       "      <td>0</td>\n",
       "      <td>1</td>\n",
       "      <td>P</td>\n",
       "      <td>76</td>\n",
       "      <td>37</td>\n",
       "      <td>...</td>\n",
       "      <td>1</td>\n",
       "      <td>Other sellers</td>\n",
       "      <td>Other servicers</td>\n",
       "      <td>NaN</td>\n",
       "      <td>NaN</td>\n",
       "      <td>9</td>\n",
       "      <td>NaN</td>\n",
       "      <td>2</td>\n",
       "      <td>N</td>\n",
       "      <td>7</td>\n",
       "    </tr>\n",
       "  </tbody>\n",
       "</table>\n",
       "<p>5 rows × 32 columns</p>\n",
       "</div>"
      ],
      "text/plain": [
       "   Credit Score  First Payment Date First Time Homebuyer Flag  Maturity Date  \\\n",
       "0           721              202212                         Y         205211   \n",
       "1           716              202212                         N         203711   \n",
       "2           789              202301                         N         205212   \n",
       "3           763              202211                         N         203710   \n",
       "4           792              202212                         N         205211   \n",
       "\n",
       "   Metropolitan Statistical Area (MSA) Or Metropolitan Division  \\\n",
       "0                                                NaN              \n",
       "1                                                NaN              \n",
       "2                                                NaN              \n",
       "3                                                NaN              \n",
       "4                                            47260.0              \n",
       "\n",
       "   Mortgage Insurance Percentage (MI %)  Number of Units Occupancy Status  \\\n",
       "0                                    35                1                P   \n",
       "1                                     0                1                P   \n",
       "2                                    30                1                P   \n",
       "3                                     0                1                P   \n",
       "4                                     0                1                P   \n",
       "\n",
       "   Original Combined Loan-to-Value (CLTV)  \\\n",
       "0                                      97   \n",
       "1                                      68   \n",
       "2                                      95   \n",
       "3                                      67   \n",
       "4                                      76   \n",
       "\n",
       "   Original Debt-to-Income (DTI) Ratio  ...  Number of Borrowers  \\\n",
       "0                                   37  ...                    1   \n",
       "1                                   40  ...                    2   \n",
       "2                                   28  ...                    2   \n",
       "3                                   39  ...                    1   \n",
       "4                                   37  ...                    1   \n",
       "\n",
       "              Seller Name           Servicer Name Super Conforming Flag  \\\n",
       "0  WELLS FARGO BANK, N.A.  WELLS FARGO BANK, N.A.                   NaN   \n",
       "1           Other sellers         Other servicers                   NaN   \n",
       "2           Other sellers         Other servicers                   NaN   \n",
       "3           Other sellers         Other servicers                   NaN   \n",
       "4           Other sellers         Other servicers                   NaN   \n",
       "\n",
       "  Pre-HARP Loan Sequence Number Program Indicator HARP Indicator  \\\n",
       "0                           NaN                 9            NaN   \n",
       "1                           NaN                 9            NaN   \n",
       "2                           NaN                 9            NaN   \n",
       "3                           NaN                 9            NaN   \n",
       "4                           NaN                 9            NaN   \n",
       "\n",
       "  Property Valuation Method  Interest Only (I/O) Indicator  \\\n",
       "0                         2                              N   \n",
       "1                         2                              N   \n",
       "2                         2                              N   \n",
       "3                         2                              N   \n",
       "4                         2                              N   \n",
       "\n",
       "  Mortgage Insurance Cancellation Indicator  \n",
       "0                                         N  \n",
       "1                                         7  \n",
       "2                                         N  \n",
       "3                                         7  \n",
       "4                                         7  \n",
       "\n",
       "[5 rows x 32 columns]"
      ]
     },
     "execution_count": 12,
     "metadata": {},
     "output_type": "execute_result"
    }
   ],
   "source": [
    "validator = context.get_validator(batch_request=my_batch_request, expectation_suite=suite)\n",
    "validator.head()"
   ]
  },
  {
   "cell_type": "code",
   "execution_count": 16,
   "metadata": {},
   "outputs": [
    {
     "data": {
      "application/vnd.jupyter.widget-view+json": {
       "model_id": "4dd1f92afee94fb082ac89f3381cc09d",
       "version_major": 2,
       "version_minor": 0
      },
      "text/plain": [
       "Calculating Metrics:   0%|          | 0/8 [00:00<?, ?it/s]"
      ]
     },
     "metadata": {},
     "output_type": "display_data"
    },
    {
     "data": {
      "application/vnd.jupyter.widget-view+json": {
       "model_id": "a63e5abeb5a54a36a5c239fa8d43a8b2",
       "version_major": 2,
       "version_minor": 0
      },
      "text/plain": [
       "Calculating Metrics:   0%|          | 0/8 [00:00<?, ?it/s]"
      ]
     },
     "metadata": {},
     "output_type": "display_data"
    },
    {
     "data": {
      "application/vnd.jupyter.widget-view+json": {
       "model_id": "a46133a5bcd34ddba272bd4b752845cc",
       "version_major": 2,
       "version_minor": 0
      },
      "text/plain": [
       "Calculating Metrics:   0%|          | 0/9 [00:00<?, ?it/s]"
      ]
     },
     "metadata": {},
     "output_type": "display_data"
    },
    {
     "data": {
      "application/vnd.jupyter.widget-view+json": {
       "model_id": "1420bdd3ec44457982b9d6e50361bce6",
       "version_major": 2,
       "version_minor": 0
      },
      "text/plain": [
       "Calculating Metrics:   0%|          | 0/9 [00:00<?, ?it/s]"
      ]
     },
     "metadata": {},
     "output_type": "display_data"
    },
    {
     "data": {
      "application/vnd.jupyter.widget-view+json": {
       "model_id": "6f4c9a9eb2fe4892b145c77886610efe",
       "version_major": 2,
       "version_minor": 0
      },
      "text/plain": [
       "Calculating Metrics:   0%|          | 0/1 [00:00<?, ?it/s]"
      ]
     },
     "metadata": {},
     "output_type": "display_data"
    },
    {
     "data": {
      "application/vnd.jupyter.widget-view+json": {
       "model_id": "8ef62d1178bf4e1eb5e9fa191db3db2b",
       "version_major": 2,
       "version_minor": 0
      },
      "text/plain": [
       "Calculating Metrics:   0%|          | 0/8 [00:00<?, ?it/s]"
      ]
     },
     "metadata": {},
     "output_type": "display_data"
    },
    {
     "data": {
      "application/vnd.jupyter.widget-view+json": {
       "model_id": "09d9d06d924244cb965aa3538cdf484f",
       "version_major": 2,
       "version_minor": 0
      },
      "text/plain": [
       "Calculating Metrics:   0%|          | 0/9 [00:00<?, ?it/s]"
      ]
     },
     "metadata": {},
     "output_type": "display_data"
    },
    {
     "data": {
      "application/vnd.jupyter.widget-view+json": {
       "model_id": "2e2a5b19de27474d9ee097098ea8d9f4",
       "version_major": 2,
       "version_minor": 0
      },
      "text/plain": [
       "Calculating Metrics:   0%|          | 0/1 [00:00<?, ?it/s]"
      ]
     },
     "metadata": {},
     "output_type": "display_data"
    },
    {
     "data": {
      "application/vnd.jupyter.widget-view+json": {
       "model_id": "18d8f2e3b4224d5699ab60c43a6ab6b7",
       "version_major": 2,
       "version_minor": 0
      },
      "text/plain": [
       "Calculating Metrics:   0%|          | 0/8 [00:00<?, ?it/s]"
      ]
     },
     "metadata": {},
     "output_type": "display_data"
    },
    {
     "data": {
      "application/vnd.jupyter.widget-view+json": {
       "model_id": "904153863dee474fa9c993e1d8a0fec6",
       "version_major": 2,
       "version_minor": 0
      },
      "text/plain": [
       "Calculating Metrics:   0%|          | 0/9 [00:00<?, ?it/s]"
      ]
     },
     "metadata": {},
     "output_type": "display_data"
    },
    {
     "data": {
      "application/vnd.jupyter.widget-view+json": {
       "model_id": "ebf05f2f92ea422da898e81ef763d59d",
       "version_major": 2,
       "version_minor": 0
      },
      "text/plain": [
       "Calculating Metrics:   0%|          | 0/8 [00:00<?, ?it/s]"
      ]
     },
     "metadata": {},
     "output_type": "display_data"
    },
    {
     "ename": "MetricResolutionError",
     "evalue": "Unrecognized numpy/python type: string",
     "output_type": "error",
     "traceback": [
      "\u001b[1;31m---------------------------------------------------------------------------\u001b[0m",
      "\u001b[1;31mValueError\u001b[0m                                Traceback (most recent call last)",
      "File \u001b[1;32mc:\\Users\\Divyesh Rajput\\AppData\\Local\\Programs\\Python\\Python311\\Lib\\site-packages\\great_expectations\\execution_engine\\execution_engine.py:548\u001b[0m, in \u001b[0;36mExecutionEngine._process_direct_and_bundled_metric_computation_configurations\u001b[1;34m(self, metric_fn_direct_configurations, metric_fn_bundle_configurations)\u001b[0m\n\u001b[0;32m    545\u001b[0m \u001b[39mtry\u001b[39;00m:\n\u001b[0;32m    546\u001b[0m     resolved_metrics[\n\u001b[0;32m    547\u001b[0m         metric_computation_configuration\u001b[39m.\u001b[39mmetric_configuration\u001b[39m.\u001b[39mid\n\u001b[1;32m--> 548\u001b[0m     ] \u001b[39m=\u001b[39m metric_computation_configuration\u001b[39m.\u001b[39;49mmetric_fn(  \u001b[39m# type: ignore[misc] # F not callable\u001b[39;49;00m\n\u001b[0;32m    549\u001b[0m         \u001b[39m*\u001b[39;49m\u001b[39m*\u001b[39;49mmetric_computation_configuration\u001b[39m.\u001b[39;49mmetric_provider_kwargs\n\u001b[0;32m    550\u001b[0m     )\n\u001b[0;32m    551\u001b[0m \u001b[39mexcept\u001b[39;00m \u001b[39mException\u001b[39;00m \u001b[39mas\u001b[39;00m e:\n",
      "File \u001b[1;32mc:\\Users\\Divyesh Rajput\\AppData\\Local\\Programs\\Python\\Python311\\Lib\\site-packages\\great_expectations\\expectations\\metrics\\metric_provider.py:90\u001b[0m, in \u001b[0;36mmetric_partial.<locals>.wrapper.<locals>.inner_func\u001b[1;34m(*args, **kwargs)\u001b[0m\n\u001b[0;32m     88\u001b[0m \u001b[39m@wraps\u001b[39m(metric_fn)\n\u001b[0;32m     89\u001b[0m \u001b[39mdef\u001b[39;00m \u001b[39minner_func\u001b[39m(\u001b[39m*\u001b[39margs, \u001b[39m*\u001b[39m\u001b[39m*\u001b[39mkwargs):\n\u001b[1;32m---> 90\u001b[0m     \u001b[39mreturn\u001b[39;00m metric_fn(\u001b[39m*\u001b[39;49margs, \u001b[39m*\u001b[39;49m\u001b[39m*\u001b[39;49mkwargs)\n",
      "File \u001b[1;32mc:\\Users\\Divyesh Rajput\\AppData\\Local\\Programs\\Python\\Python311\\Lib\\site-packages\\great_expectations\\expectations\\metrics\\map_metric_provider\\column_condition_partial.py:119\u001b[0m, in \u001b[0;36mcolumn_condition_partial.<locals>.wrapper.<locals>.inner_func\u001b[1;34m(cls, execution_engine, metric_domain_kwargs, metric_value_kwargs, metrics, runtime_configuration)\u001b[0m\n\u001b[0;32m    117\u001b[0m     df \u001b[39m=\u001b[39m df[df[column_name]\u001b[39m.\u001b[39mnotnull()]\n\u001b[1;32m--> 119\u001b[0m meets_expectation_series \u001b[39m=\u001b[39m metric_fn(\n\u001b[0;32m    120\u001b[0m     \u001b[39mcls\u001b[39;49m,\n\u001b[0;32m    121\u001b[0m     df[column_name],\n\u001b[0;32m    122\u001b[0m     \u001b[39m*\u001b[39;49m\u001b[39m*\u001b[39;49mmetric_value_kwargs,\n\u001b[0;32m    123\u001b[0m     _metrics\u001b[39m=\u001b[39;49mmetrics,\n\u001b[0;32m    124\u001b[0m )\n\u001b[0;32m    125\u001b[0m \u001b[39mreturn\u001b[39;00m (\n\u001b[0;32m    126\u001b[0m     \u001b[39m~\u001b[39mmeets_expectation_series,\n\u001b[0;32m    127\u001b[0m     compute_domain_kwargs,\n\u001b[0;32m    128\u001b[0m     accessor_domain_kwargs,\n\u001b[0;32m    129\u001b[0m )\n",
      "File \u001b[1;32mc:\\Users\\Divyesh Rajput\\AppData\\Local\\Programs\\Python\\Python311\\Lib\\site-packages\\great_expectations\\expectations\\metrics\\column_map_metrics\\column_values_of_type.py:43\u001b[0m, in \u001b[0;36mColumnValuesOfType._pandas\u001b[1;34m(cls, column, type_, **kwargs)\u001b[0m\n\u001b[0;32m     42\u001b[0m \u001b[39mif\u001b[39;00m \u001b[39mlen\u001b[39m(comp_types) \u001b[39m<\u001b[39m \u001b[39m1\u001b[39m:\n\u001b[1;32m---> 43\u001b[0m     \u001b[39mraise\u001b[39;00m \u001b[39mValueError\u001b[39;00m(\u001b[39mf\u001b[39m\u001b[39m\"\u001b[39m\u001b[39mUnrecognized numpy/python type: \u001b[39m\u001b[39m{\u001b[39;00mtype_\u001b[39m}\u001b[39;00m\u001b[39m\"\u001b[39m)\n\u001b[0;32m     45\u001b[0m \u001b[39mreturn\u001b[39;00m column\u001b[39m.\u001b[39mmap(\u001b[39mlambda\u001b[39;00m x: \u001b[39misinstance\u001b[39m(x, \u001b[39mtuple\u001b[39m(comp_types)))\n",
      "\u001b[1;31mValueError\u001b[0m: Unrecognized numpy/python type: string",
      "\nThe above exception was the direct cause of the following exception:\n",
      "\u001b[1;31mMetricResolutionError\u001b[0m                     Traceback (most recent call last)",
      "\u001b[1;32mc:\\Users\\Divyesh Rajput\\Desktop\\Big Data Systems and  Intelligence Analytics\\Asng_1\\Part2\\modules\\notebook.ipynb Cell 12\u001b[0m line \u001b[0;36m1\n\u001b[0;32m     <a href='vscode-notebook-cell:/c%3A/Users/Divyesh%20Rajput/Desktop/Big%20Data%20Systems%20and%20%20Intelligence%20Analytics/Asng_1/Part2/modules/notebook.ipynb#X14sZmlsZQ%3D%3D?line=16'>17</a>\u001b[0m validator\u001b[39m.\u001b[39mexpect_column_value_lengths_to_be_between(\u001b[39m\"\u001b[39m\u001b[39mCredit Score\u001b[39m\u001b[39m\"\u001b[39m, min_value\u001b[39m=\u001b[39m\u001b[39m3\u001b[39m, max_value\u001b[39m=\u001b[39m\u001b[39m4\u001b[39m)\n\u001b[0;32m     <a href='vscode-notebook-cell:/c%3A/Users/Divyesh%20Rajput/Desktop/Big%20Data%20Systems%20and%20%20Intelligence%20Analytics/Asng_1/Part2/modules/notebook.ipynb#X14sZmlsZQ%3D%3D?line=17'>18</a>\u001b[0m \u001b[39m# Ensure the column values are of type string\u001b[39;00m\n\u001b[1;32m---> <a href='vscode-notebook-cell:/c%3A/Users/Divyesh%20Rajput/Desktop/Big%20Data%20Systems%20and%20%20Intelligence%20Analytics/Asng_1/Part2/modules/notebook.ipynb#X14sZmlsZQ%3D%3D?line=18'>19</a>\u001b[0m validator\u001b[39m.\u001b[39;49mexpect_column_values_to_be_of_type(\u001b[39m\"\u001b[39;49m\u001b[39mProperty State\u001b[39;49m\u001b[39m\"\u001b[39;49m, \u001b[39m\"\u001b[39;49m\u001b[39mstring\u001b[39;49m\u001b[39m\"\u001b[39;49m)\n\u001b[0;32m     <a href='vscode-notebook-cell:/c%3A/Users/Divyesh%20Rajput/Desktop/Big%20Data%20Systems%20and%20%20Intelligence%20Analytics/Asng_1/Part2/modules/notebook.ipynb#X14sZmlsZQ%3D%3D?line=20'>21</a>\u001b[0m \u001b[39m# Check that the length of the string is exactly 2\u001b[39;00m\n\u001b[0;32m     <a href='vscode-notebook-cell:/c%3A/Users/Divyesh%20Rajput/Desktop/Big%20Data%20Systems%20and%20%20Intelligence%20Analytics/Asng_1/Part2/modules/notebook.ipynb#X14sZmlsZQ%3D%3D?line=21'>22</a>\u001b[0m validator\u001b[39m.\u001b[39mexpect_column_value_lengths_to_equal(\u001b[39m\"\u001b[39m\u001b[39mProperty State\u001b[39m\u001b[39m\"\u001b[39m, value\u001b[39m=\u001b[39m\u001b[39m2\u001b[39m)\n",
      "File \u001b[1;32mc:\\Users\\Divyesh Rajput\\AppData\\Local\\Programs\\Python\\Python311\\Lib\\site-packages\\great_expectations\\validator\\validator.py:594\u001b[0m, in \u001b[0;36mValidator.validate_expectation.<locals>.inst_expectation\u001b[1;34m(*args, **kwargs)\u001b[0m\n\u001b[0;32m    588\u001b[0m         validation_result \u001b[39m=\u001b[39m ExpectationValidationResult(\n\u001b[0;32m    589\u001b[0m             success\u001b[39m=\u001b[39m\u001b[39mFalse\u001b[39;00m,\n\u001b[0;32m    590\u001b[0m             exception_info\u001b[39m=\u001b[39mexception_info,\n\u001b[0;32m    591\u001b[0m             expectation_config\u001b[39m=\u001b[39mconfiguration,\n\u001b[0;32m    592\u001b[0m         )\n\u001b[0;32m    593\u001b[0m     \u001b[39melse\u001b[39;00m:\n\u001b[1;32m--> 594\u001b[0m         \u001b[39mraise\u001b[39;00m err\n\u001b[0;32m    596\u001b[0m \u001b[39mif\u001b[39;00m \u001b[39mself\u001b[39m\u001b[39m.\u001b[39m_include_rendered_content:\n\u001b[0;32m    597\u001b[0m     validation_result\u001b[39m.\u001b[39mrender()\n",
      "File \u001b[1;32mc:\\Users\\Divyesh Rajput\\AppData\\Local\\Programs\\Python\\Python311\\Lib\\site-packages\\great_expectations\\validator\\validator.py:557\u001b[0m, in \u001b[0;36mValidator.validate_expectation.<locals>.inst_expectation\u001b[1;34m(*args, **kwargs)\u001b[0m\n\u001b[0;32m    553\u001b[0m     validation_result \u001b[39m=\u001b[39m ExpectationValidationResult(\n\u001b[0;32m    554\u001b[0m         expectation_config\u001b[39m=\u001b[39mcopy\u001b[39m.\u001b[39mdeepcopy(expectation\u001b[39m.\u001b[39mconfiguration)\n\u001b[0;32m    555\u001b[0m     )\n\u001b[0;32m    556\u001b[0m \u001b[39melse\u001b[39;00m:\n\u001b[1;32m--> 557\u001b[0m     validation_result \u001b[39m=\u001b[39m expectation\u001b[39m.\u001b[39;49mvalidate(\n\u001b[0;32m    558\u001b[0m         validator\u001b[39m=\u001b[39;49m\u001b[39mself\u001b[39;49m,\n\u001b[0;32m    559\u001b[0m         evaluation_parameters\u001b[39m=\u001b[39;49m\u001b[39mself\u001b[39;49m\u001b[39m.\u001b[39;49m_expectation_suite\u001b[39m.\u001b[39;49mevaluation_parameters,\n\u001b[0;32m    560\u001b[0m         data_context\u001b[39m=\u001b[39;49m\u001b[39mself\u001b[39;49m\u001b[39m.\u001b[39;49m_data_context,\n\u001b[0;32m    561\u001b[0m         runtime_configuration\u001b[39m=\u001b[39;49mbasic_runtime_configuration,\n\u001b[0;32m    562\u001b[0m     )\n\u001b[0;32m    564\u001b[0m \u001b[39m# If validate has set active_validation to true, then we do not save the config to avoid\u001b[39;00m\n\u001b[0;32m    565\u001b[0m \u001b[39m# saving updating expectation configs to the same suite during validation runs\u001b[39;00m\n\u001b[0;32m    566\u001b[0m \u001b[39mif\u001b[39;00m \u001b[39mself\u001b[39m\u001b[39m.\u001b[39m_active_validation \u001b[39mis\u001b[39;00m \u001b[39mTrue\u001b[39;00m:\n",
      "File \u001b[1;32mc:\\Users\\Divyesh Rajput\\AppData\\Local\\Programs\\Python\\Python311\\Lib\\site-packages\\great_expectations\\expectations\\expectation.py:1276\u001b[0m, in \u001b[0;36mExpectation.validate\u001b[1;34m(self, validator, configuration, evaluation_parameters, interactive_evaluation, data_context, runtime_configuration)\u001b[0m\n\u001b[0;32m   1267\u001b[0m \u001b[39mself\u001b[39m\u001b[39m.\u001b[39m_warn_if_result_format_config_in_expectation_configuration(\n\u001b[0;32m   1268\u001b[0m     configuration\u001b[39m=\u001b[39mconfiguration\n\u001b[0;32m   1269\u001b[0m )\n\u001b[0;32m   1271\u001b[0m configuration\u001b[39m.\u001b[39mprocess_evaluation_parameters(\n\u001b[0;32m   1272\u001b[0m     evaluation_parameters, interactive_evaluation, data_context\n\u001b[0;32m   1273\u001b[0m )\n\u001b[0;32m   1274\u001b[0m expectation_validation_result_list: \u001b[39mlist\u001b[39m[\n\u001b[0;32m   1275\u001b[0m     ExpectationValidationResult\n\u001b[1;32m-> 1276\u001b[0m ] \u001b[39m=\u001b[39m validator\u001b[39m.\u001b[39;49mgraph_validate(\n\u001b[0;32m   1277\u001b[0m     configurations\u001b[39m=\u001b[39;49m[configuration],\n\u001b[0;32m   1278\u001b[0m     runtime_configuration\u001b[39m=\u001b[39;49mruntime_configuration,\n\u001b[0;32m   1279\u001b[0m )\n\u001b[0;32m   1280\u001b[0m \u001b[39mreturn\u001b[39;00m expectation_validation_result_list[\u001b[39m0\u001b[39m]\n",
      "File \u001b[1;32mc:\\Users\\Divyesh Rajput\\AppData\\Local\\Programs\\Python\\Python311\\Lib\\site-packages\\great_expectations\\validator\\validator.py:1069\u001b[0m, in \u001b[0;36mValidator.graph_validate\u001b[1;34m(self, configurations, runtime_configuration)\u001b[0m\n\u001b[0;32m   1067\u001b[0m         \u001b[39mreturn\u001b[39;00m evrs\n\u001b[0;32m   1068\u001b[0m     \u001b[39melse\u001b[39;00m:\n\u001b[1;32m-> 1069\u001b[0m         \u001b[39mraise\u001b[39;00m err\n\u001b[0;32m   1071\u001b[0m configuration: ExpectationConfiguration\n\u001b[0;32m   1072\u001b[0m result: ExpectationValidationResult\n",
      "File \u001b[1;32mc:\\Users\\Divyesh Rajput\\AppData\\Local\\Programs\\Python\\Python311\\Lib\\site-packages\\great_expectations\\validator\\validator.py:1048\u001b[0m, in \u001b[0;36mValidator.graph_validate\u001b[1;34m(self, configurations, runtime_configuration)\u001b[0m\n\u001b[0;32m   1041\u001b[0m resolved_metrics: _MetricsDict\n\u001b[0;32m   1043\u001b[0m \u001b[39mtry\u001b[39;00m:\n\u001b[0;32m   1044\u001b[0m     (\n\u001b[0;32m   1045\u001b[0m         resolved_metrics,\n\u001b[0;32m   1046\u001b[0m         evrs,\n\u001b[0;32m   1047\u001b[0m         processed_configurations,\n\u001b[1;32m-> 1048\u001b[0m     ) \u001b[39m=\u001b[39m \u001b[39mself\u001b[39;49m\u001b[39m.\u001b[39;49m_resolve_suite_level_graph_and_process_metric_evaluation_errors(\n\u001b[0;32m   1049\u001b[0m         graph\u001b[39m=\u001b[39;49mgraph,\n\u001b[0;32m   1050\u001b[0m         runtime_configuration\u001b[39m=\u001b[39;49mruntime_configuration,\n\u001b[0;32m   1051\u001b[0m         expectation_validation_graphs\u001b[39m=\u001b[39;49mexpectation_validation_graphs,\n\u001b[0;32m   1052\u001b[0m         evrs\u001b[39m=\u001b[39;49mevrs,\n\u001b[0;32m   1053\u001b[0m         processed_configurations\u001b[39m=\u001b[39;49mprocessed_configurations,\n\u001b[0;32m   1054\u001b[0m         show_progress_bars\u001b[39m=\u001b[39;49m\u001b[39mself\u001b[39;49m\u001b[39m.\u001b[39;49m_determine_progress_bars(),\n\u001b[0;32m   1055\u001b[0m     )\n\u001b[0;32m   1056\u001b[0m \u001b[39mexcept\u001b[39;00m \u001b[39mException\u001b[39;00m \u001b[39mas\u001b[39;00m err:\n\u001b[0;32m   1057\u001b[0m     \u001b[39m# If a general Exception occurs during the execution of \"ValidationGraph.resolve()\", then\u001b[39;00m\n\u001b[0;32m   1058\u001b[0m     \u001b[39m# all expectations in the suite are impacted, because it is impossible to attribute the failure to a metric.\u001b[39;00m\n\u001b[0;32m   1059\u001b[0m     \u001b[39mif\u001b[39;00m catch_exceptions:\n",
      "File \u001b[1;32mc:\\Users\\Divyesh Rajput\\AppData\\Local\\Programs\\Python\\Python311\\Lib\\site-packages\\great_expectations\\validator\\validator.py:1207\u001b[0m, in \u001b[0;36mValidator._resolve_suite_level_graph_and_process_metric_evaluation_errors\u001b[1;34m(self, graph, runtime_configuration, expectation_validation_graphs, evrs, processed_configurations, show_progress_bars)\u001b[0m\n\u001b[0;32m   1199\u001b[0m resolved_metrics: _MetricsDict\n\u001b[0;32m   1200\u001b[0m aborted_metrics_info: Dict[\n\u001b[0;32m   1201\u001b[0m     _MetricKey,\n\u001b[0;32m   1202\u001b[0m     Dict[\u001b[39mstr\u001b[39m, Union[MetricConfiguration, Set[ExceptionInfo], \u001b[39mint\u001b[39m]],\n\u001b[0;32m   1203\u001b[0m ]\n\u001b[0;32m   1204\u001b[0m (\n\u001b[0;32m   1205\u001b[0m     resolved_metrics,\n\u001b[0;32m   1206\u001b[0m     aborted_metrics_info,\n\u001b[1;32m-> 1207\u001b[0m ) \u001b[39m=\u001b[39m \u001b[39mself\u001b[39;49m\u001b[39m.\u001b[39;49m_metrics_calculator\u001b[39m.\u001b[39;49mresolve_validation_graph(\n\u001b[0;32m   1208\u001b[0m     graph\u001b[39m=\u001b[39;49mgraph,\n\u001b[0;32m   1209\u001b[0m     runtime_configuration\u001b[39m=\u001b[39;49mruntime_configuration,\n\u001b[0;32m   1210\u001b[0m     min_graph_edges_pbar_enable\u001b[39m=\u001b[39;49m\u001b[39m0\u001b[39;49m,\n\u001b[0;32m   1211\u001b[0m )\n\u001b[0;32m   1213\u001b[0m \u001b[39m# Trace MetricResolutionError occurrences to expectations relying on corresponding malfunctioning metrics.\u001b[39;00m\n\u001b[0;32m   1214\u001b[0m rejected_configurations: List[ExpectationConfiguration] \u001b[39m=\u001b[39m []\n",
      "File \u001b[1;32mc:\\Users\\Divyesh Rajput\\AppData\\Local\\Programs\\Python\\Python311\\Lib\\site-packages\\great_expectations\\validator\\metrics_calculator.py:287\u001b[0m, in \u001b[0;36mMetricsCalculator.resolve_validation_graph\u001b[1;34m(self, graph, runtime_configuration, min_graph_edges_pbar_enable)\u001b[0m\n\u001b[0;32m    282\u001b[0m resolved_metrics: _MetricsDict\n\u001b[0;32m    283\u001b[0m aborted_metrics_info: Dict[\n\u001b[0;32m    284\u001b[0m     _MetricKey,\n\u001b[0;32m    285\u001b[0m     Dict[\u001b[39mstr\u001b[39m, Union[MetricConfiguration, Set[ExceptionInfo], \u001b[39mint\u001b[39m]],\n\u001b[0;32m    286\u001b[0m ]\n\u001b[1;32m--> 287\u001b[0m resolved_metrics, aborted_metrics_info \u001b[39m=\u001b[39m graph\u001b[39m.\u001b[39;49mresolve(\n\u001b[0;32m    288\u001b[0m     runtime_configuration\u001b[39m=\u001b[39;49mruntime_configuration,\n\u001b[0;32m    289\u001b[0m     min_graph_edges_pbar_enable\u001b[39m=\u001b[39;49mmin_graph_edges_pbar_enable,\n\u001b[0;32m    290\u001b[0m     show_progress_bars\u001b[39m=\u001b[39;49m\u001b[39mself\u001b[39;49m\u001b[39m.\u001b[39;49m_show_progress_bars,\n\u001b[0;32m    291\u001b[0m )\n\u001b[0;32m    292\u001b[0m \u001b[39mreturn\u001b[39;00m resolved_metrics, aborted_metrics_info\n",
      "File \u001b[1;32mc:\\Users\\Divyesh Rajput\\AppData\\Local\\Programs\\Python\\Python311\\Lib\\site-packages\\great_expectations\\validator\\validation_graph.py:209\u001b[0m, in \u001b[0;36mValidationGraph.resolve\u001b[1;34m(self, runtime_configuration, min_graph_edges_pbar_enable, show_progress_bars)\u001b[0m\n\u001b[0;32m    203\u001b[0m resolved_metrics: Dict[_MetricKey, MetricValue] \u001b[39m=\u001b[39m {}\n\u001b[0;32m    205\u001b[0m \u001b[39m# updates graph with aborted metrics\u001b[39;00m\n\u001b[0;32m    206\u001b[0m aborted_metrics_info: Dict[\n\u001b[0;32m    207\u001b[0m     _MetricKey,\n\u001b[0;32m    208\u001b[0m     Dict[\u001b[39mstr\u001b[39m, Union[MetricConfiguration, Set[ExceptionInfo], \u001b[39mint\u001b[39m]],\n\u001b[1;32m--> 209\u001b[0m ] \u001b[39m=\u001b[39m \u001b[39mself\u001b[39;49m\u001b[39m.\u001b[39;49m_resolve(\n\u001b[0;32m    210\u001b[0m     metrics\u001b[39m=\u001b[39;49mresolved_metrics,\n\u001b[0;32m    211\u001b[0m     runtime_configuration\u001b[39m=\u001b[39;49mruntime_configuration,\n\u001b[0;32m    212\u001b[0m     min_graph_edges_pbar_enable\u001b[39m=\u001b[39;49mmin_graph_edges_pbar_enable,\n\u001b[0;32m    213\u001b[0m     show_progress_bars\u001b[39m=\u001b[39;49mshow_progress_bars,\n\u001b[0;32m    214\u001b[0m )\n\u001b[0;32m    216\u001b[0m \u001b[39mreturn\u001b[39;00m resolved_metrics, aborted_metrics_info\n",
      "File \u001b[1;32mc:\\Users\\Divyesh Rajput\\AppData\\Local\\Programs\\Python\\Python311\\Lib\\site-packages\\great_expectations\\validator\\validation_graph.py:315\u001b[0m, in \u001b[0;36mValidationGraph._resolve\u001b[1;34m(self, metrics, runtime_configuration, min_graph_edges_pbar_enable, show_progress_bars)\u001b[0m\n\u001b[0;32m    311\u001b[0m                 failed_metric_info[failed_metric\u001b[39m.\u001b[39mid][\u001b[39m\"\u001b[39m\u001b[39mexception_info\u001b[39m\u001b[39m\"\u001b[39m] \u001b[39m=\u001b[39m {\n\u001b[0;32m    312\u001b[0m                     exception_info\n\u001b[0;32m    313\u001b[0m                 }\n\u001b[0;32m    314\u001b[0m     \u001b[39melse\u001b[39;00m:\n\u001b[1;32m--> 315\u001b[0m         \u001b[39mraise\u001b[39;00m err\n\u001b[0;32m    316\u001b[0m \u001b[39mexcept\u001b[39;00m \u001b[39mException\u001b[39;00m \u001b[39mas\u001b[39;00m e:\n\u001b[0;32m    317\u001b[0m     \u001b[39mif\u001b[39;00m catch_exceptions:\n",
      "File \u001b[1;32mc:\\Users\\Divyesh Rajput\\AppData\\Local\\Programs\\Python\\Python311\\Lib\\site-packages\\great_expectations\\validator\\validation_graph.py:285\u001b[0m, in \u001b[0;36mValidationGraph._resolve\u001b[1;34m(self, metrics, runtime_configuration, min_graph_edges_pbar_enable, show_progress_bars)\u001b[0m\n\u001b[0;32m    280\u001b[0m         computable_metrics\u001b[39m.\u001b[39madd(metric)\n\u001b[0;32m    282\u001b[0m \u001b[39mtry\u001b[39;00m:\n\u001b[0;32m    283\u001b[0m     \u001b[39m# Access \"ExecutionEngine.resolve_metrics()\" method, to resolve missing \"MetricConfiguration\" objects.\u001b[39;00m\n\u001b[0;32m    284\u001b[0m     metrics\u001b[39m.\u001b[39mupdate(\n\u001b[1;32m--> 285\u001b[0m         \u001b[39mself\u001b[39;49m\u001b[39m.\u001b[39;49m_execution_engine\u001b[39m.\u001b[39;49mresolve_metrics(\n\u001b[0;32m    286\u001b[0m             metrics_to_resolve\u001b[39m=\u001b[39;49mcomputable_metrics,  \u001b[39m# type: ignore[arg-type]  # Metric typing needs further refinement.\u001b[39;49;00m\n\u001b[0;32m    287\u001b[0m             metrics\u001b[39m=\u001b[39;49mmetrics,  \u001b[39m# type: ignore[arg-type]  # Metric typing needs further refinement.\u001b[39;49;00m\n\u001b[0;32m    288\u001b[0m             runtime_configuration\u001b[39m=\u001b[39;49mruntime_configuration,\n\u001b[0;32m    289\u001b[0m         )\n\u001b[0;32m    290\u001b[0m     )\n\u001b[0;32m    291\u001b[0m     progress_bar\u001b[39m.\u001b[39mupdate(\u001b[39mlen\u001b[39m(computable_metrics))\n\u001b[0;32m    292\u001b[0m     progress_bar\u001b[39m.\u001b[39mrefresh()\n",
      "File \u001b[1;32mc:\\Users\\Divyesh Rajput\\AppData\\Local\\Programs\\Python\\Python311\\Lib\\site-packages\\great_expectations\\execution_engine\\execution_engine.py:283\u001b[0m, in \u001b[0;36mExecutionEngine.resolve_metrics\u001b[1;34m(self, metrics_to_resolve, metrics, runtime_configuration)\u001b[0m\n\u001b[0;32m    274\u001b[0m metric_fn_bundle_configurations: List[MetricComputationConfiguration]\n\u001b[0;32m    275\u001b[0m (\n\u001b[0;32m    276\u001b[0m     metric_fn_direct_configurations,\n\u001b[0;32m    277\u001b[0m     metric_fn_bundle_configurations,\n\u001b[1;32m   (...)\u001b[0m\n\u001b[0;32m    281\u001b[0m     runtime_configuration\u001b[39m=\u001b[39mruntime_configuration,\n\u001b[0;32m    282\u001b[0m )\n\u001b[1;32m--> 283\u001b[0m \u001b[39mreturn\u001b[39;00m \u001b[39mself\u001b[39;49m\u001b[39m.\u001b[39;49m_process_direct_and_bundled_metric_computation_configurations(\n\u001b[0;32m    284\u001b[0m     metric_fn_direct_configurations\u001b[39m=\u001b[39;49mmetric_fn_direct_configurations,\n\u001b[0;32m    285\u001b[0m     metric_fn_bundle_configurations\u001b[39m=\u001b[39;49mmetric_fn_bundle_configurations,\n\u001b[0;32m    286\u001b[0m )\n",
      "File \u001b[1;32mc:\\Users\\Divyesh Rajput\\AppData\\Local\\Programs\\Python\\Python311\\Lib\\site-packages\\great_expectations\\execution_engine\\execution_engine.py:552\u001b[0m, in \u001b[0;36mExecutionEngine._process_direct_and_bundled_metric_computation_configurations\u001b[1;34m(self, metric_fn_direct_configurations, metric_fn_bundle_configurations)\u001b[0m\n\u001b[0;32m    546\u001b[0m         resolved_metrics[\n\u001b[0;32m    547\u001b[0m             metric_computation_configuration\u001b[39m.\u001b[39mmetric_configuration\u001b[39m.\u001b[39mid\n\u001b[0;32m    548\u001b[0m         ] \u001b[39m=\u001b[39m metric_computation_configuration\u001b[39m.\u001b[39mmetric_fn(  \u001b[39m# type: ignore[misc] # F not callable\u001b[39;00m\n\u001b[0;32m    549\u001b[0m             \u001b[39m*\u001b[39m\u001b[39m*\u001b[39mmetric_computation_configuration\u001b[39m.\u001b[39mmetric_provider_kwargs\n\u001b[0;32m    550\u001b[0m         )\n\u001b[0;32m    551\u001b[0m     \u001b[39mexcept\u001b[39;00m \u001b[39mException\u001b[39;00m \u001b[39mas\u001b[39;00m e:\n\u001b[1;32m--> 552\u001b[0m         \u001b[39mraise\u001b[39;00m gx_exceptions\u001b[39m.\u001b[39mMetricResolutionError(\n\u001b[0;32m    553\u001b[0m             message\u001b[39m=\u001b[39m\u001b[39mstr\u001b[39m(e),\n\u001b[0;32m    554\u001b[0m             failed_metrics\u001b[39m=\u001b[39m(\n\u001b[0;32m    555\u001b[0m                 metric_computation_configuration\u001b[39m.\u001b[39mmetric_configuration,\n\u001b[0;32m    556\u001b[0m             ),\n\u001b[0;32m    557\u001b[0m         ) \u001b[39mfrom\u001b[39;00m \u001b[39me\u001b[39;00m\n\u001b[0;32m    559\u001b[0m \u001b[39mtry\u001b[39;00m:\n\u001b[0;32m    560\u001b[0m     \u001b[39m# an engine-specific way of computing metrics together\u001b[39;00m\n\u001b[0;32m    561\u001b[0m     resolved_metric_bundle: Dict[\n\u001b[0;32m    562\u001b[0m         Tuple[\u001b[39mstr\u001b[39m, \u001b[39mstr\u001b[39m, \u001b[39mstr\u001b[39m], MetricValue\n\u001b[0;32m    563\u001b[0m     ] \u001b[39m=\u001b[39m \u001b[39mself\u001b[39m\u001b[39m.\u001b[39mresolve_metric_bundle(\n\u001b[0;32m    564\u001b[0m         metric_fn_bundle\u001b[39m=\u001b[39mmetric_fn_bundle_configurations\n\u001b[0;32m    565\u001b[0m     )\n",
      "\u001b[1;31mMetricResolutionError\u001b[0m: Unrecognized numpy/python type: string"
     ]
    }
   ],
   "source": [
    "validator.expect_column_values_to_be_in_set(\"Occupancy Status\", [\"P\", \"I\", \"S\", \"9\"])\n",
    "validator.expect_column_values_to_be_in_set(\"First Time Homebuyer Flag\", [\"Y\", \"N\", \"9\"])\n",
    "validator.expect_column_value_lengths_to_equal(\"Occupancy Status\", 1)\n",
    "validator.expect_column_value_lengths_to_equal(\"First Time Homebuyer Flag\", 1)\n",
    "# Ensure the column values are of type integer\n",
    "validator.expect_column_values_to_be_of_type(\"Maturity Date\", \"int\")\n",
    "\n",
    "# Check that the first two digits are \"20\"\n",
    "validator.expect_column_values_to_match_regex(\"Maturity Date\", \"^20[0-9]{4}$\")\n",
    "# Validate that the length of each value is exactly 6\n",
    "validator.expect_column_value_lengths_to_equal(\"Maturity Date\", 6)\n",
    "# Ensure the column values are of type integer\n",
    "validator.expect_column_values_to_be_of_type(\"Credit Score\", \"int\")\n",
    "# Check the range of the values to be between 300 and 850 or equal to 9999\n",
    "validator.expect_column_values_to_be_in_set(\"Credit Score\", [9999] + list(range(300, 851)))\n",
    "# Validate that the length of each value is at most 4\n",
    "validator.expect_column_value_lengths_to_be_between(\"Credit Score\", min_value=3, max_value=4)\n",
    "\n",
    "# Check that the length of the string is exactly 2\n",
    "validator.expect_column_value_lengths_to_equal(\"Property State\", value=2)\n",
    "\n",
    "\n"
   ]
  },
  {
   "cell_type": "code",
   "execution_count": null,
   "metadata": {},
   "outputs": [],
   "source": []
  }
 ],
 "metadata": {
  "kernelspec": {
   "display_name": "Python 3",
   "language": "python",
   "name": "python3"
  },
  "language_info": {
   "codemirror_mode": {
    "name": "ipython",
    "version": 3
   },
   "file_extension": ".py",
   "mimetype": "text/x-python",
   "name": "python",
   "nbconvert_exporter": "python",
   "pygments_lexer": "ipython3",
   "version": "3.11.3"
  },
  "orig_nbformat": 4
 },
 "nbformat": 4,
 "nbformat_minor": 2
}
